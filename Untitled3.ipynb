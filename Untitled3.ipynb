{
  "nbformat": 4,
  "nbformat_minor": 0,
  "metadata": {
    "colab": {
      "provenance": [],
      "authorship_tag": "ABX9TyNu44/tWi8AUqezWLwR7S5O",
      "include_colab_link": true
    },
    "kernelspec": {
      "name": "python3",
      "display_name": "Python 3"
    },
    "language_info": {
      "name": "python"
    }
  },
  "cells": [
    {
      "cell_type": "markdown",
      "metadata": {
        "id": "view-in-github",
        "colab_type": "text"
      },
      "source": [
        "<a href=\"https://colab.research.google.com/github/SantospemIT/JetBrains/blob/master/Untitled3.ipynb\" target=\"_parent\"><img src=\"https://colab.research.google.com/assets/colab-badge.svg\" alt=\"Open In Colab\"/></a>"
      ]
    },
    {
      "cell_type": "code",
      "execution_count": 2,
      "metadata": {
        "colab": {
          "base_uri": "https://localhost:8080/"
        },
        "id": "Pz5prbK4nsDo",
        "outputId": "84a8122d-e258-472a-acaf-9f055a275c9b"
      },
      "outputs": [
        {
          "output_type": "stream",
          "name": "stdout",
          "text": [
            "9165 110 299\n",
            "MULTA\n"
          ]
        }
      ],
      "source": [
        "def check_speeding(distance, max_speed, time):\n",
        "    # Check for invalid input values\n",
        "    if distance <= 0 or max_speed <= 0 or time <= 0:\n",
        "        return \"ERROR\"\n",
        "\n",
        "    # Calculate the average speed in km/h\n",
        "    avg_speed = (distance / 1000) / (time / 3600)\n",
        "\n",
        "    # Determine the result based on the average speed\n",
        "    if avg_speed <= max_speed:\n",
        "        return \"OK\"\n",
        "    elif avg_speed <= max_speed * 1.2:\n",
        "        return \"MULTA\"\n",
        "    else:\n",
        "        return \"CURSO SENSIBILIZACION\"\n",
        "\n",
        "# Read input values\n",
        "distance, max_speed, time = map(int, input().split())\n",
        "\n",
        "# Check if the driver should be fined and print the result\n",
        "result = check_speeding(distance, max_speed, time)\n",
        "print(result)"
      ]
    }
  ]
}