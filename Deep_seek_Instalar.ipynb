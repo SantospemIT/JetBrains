{
  "nbformat": 4,
  "nbformat_minor": 0,
  "metadata": {
    "colab": {
      "provenance": [],
      "authorship_tag": "ABX9TyOrvzL7rIDooF2ItbM6DnHo",
      "include_colab_link": true
    },
    "kernelspec": {
      "name": "python3",
      "display_name": "Python 3"
    },
    "language_info": {
      "name": "python"
    }
  },
  "cells": [
    {
      "cell_type": "markdown",
      "metadata": {
        "id": "view-in-github",
        "colab_type": "text"
      },
      "source": [
        "<a href=\"https://colab.research.google.com/github/SantospemIT/JetBrains/blob/master/Deep_seek_Instalar.ipynb\" target=\"_parent\"><img src=\"https://colab.research.google.com/assets/colab-badge.svg\" alt=\"Open In Colab\"/></a>"
      ]
    },
    {
      "cell_type": "markdown",
      "source": [
        "1. Descargar https://ollama.com/download/windows\n",
        "2. https://ollama.com/synaaptics\n",
        "3. Corremos el Modelo https://ollama.com/search   https://ollama.com/library/deepseek-r1\n",
        "4. Instalar el modelo de 7 billones de parametros\n",
        "5. Te vas cmd y copias el siguiente codigo\n",
        "ollama run deepseek-r1:7b\n",
        "6.\n"
      ],
      "metadata": {
        "id": "kHllYVv-n5Cw"
      }
    },
    {
      "cell_type": "code",
      "execution_count": null,
      "metadata": {
        "id": "cmoREfMxn05d"
      },
      "outputs": [],
      "source": []
    }
  ]
}