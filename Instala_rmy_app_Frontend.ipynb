{
  "nbformat": 4,
  "nbformat_minor": 0,
  "metadata": {
    "colab": {
      "provenance": [],
      "authorship_tag": "ABX9TyN/IcxYeOvhQa77nC5XGsBL",
      "include_colab_link": true
    },
    "kernelspec": {
      "name": "python3",
      "display_name": "Python 3"
    },
    "language_info": {
      "name": "python"
    }
  },
  "cells": [
    {
      "cell_type": "markdown",
      "metadata": {
        "id": "view-in-github",
        "colab_type": "text"
      },
      "source": [
        "<a href=\"https://colab.research.google.com/github/SantospemIT/JetBrains/blob/master/Instala_rmy_app_Frontend.ipynb\" target=\"_parent\"><img src=\"https://colab.research.google.com/assets/colab-badge.svg\" alt=\"Open In Colab\"/></a>"
      ]
    },
    {
      "cell_type": "markdown",
      "source": [
        "# **Pasos Para configurar mi entorno de servicios **"
      ],
      "metadata": {
        "id": "NurKM3tjH3Up"
      }
    },
    {
      "cell_type": "markdown",
      "source": [
        "\n",
        "1. Crear una cuenta en Render\n",
        "- Crear un nuevo proyecto en este caso seleccionamos web services\n",
        "- Abrir Render y conectar proyecto con Github"
      ],
      "metadata": {
        "id": "AzSvvlRIISiC"
      }
    },
    {
      "cell_type": "code",
      "source": [],
      "metadata": {
        "id": "Bze_mfieH4F6"
      },
      "execution_count": null,
      "outputs": []
    },
    {
      "cell_type": "code",
      "source": [],
      "metadata": {
        "id": "deiYuhUPH47K"
      },
      "execution_count": null,
      "outputs": []
    },
    {
      "cell_type": "code",
      "source": [],
      "metadata": {
        "id": "GrwYQypeH2VP"
      },
      "execution_count": null,
      "outputs": []
    },
    {
      "cell_type": "markdown",
      "source": [],
      "metadata": {
        "id": "TzqqmSZHH1im"
      }
    },
    {
      "cell_type": "code",
      "execution_count": null,
      "metadata": {
        "id": "mytmtQlQH0p_"
      },
      "outputs": [],
      "source": []
    }
  ]
}