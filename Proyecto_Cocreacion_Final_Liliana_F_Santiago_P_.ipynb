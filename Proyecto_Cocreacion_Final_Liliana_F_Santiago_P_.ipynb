{
  "nbformat": 4,
  "nbformat_minor": 0,
  "metadata": {
    "colab": {
      "provenance": [],
      "include_colab_link": true
    },
    "kernelspec": {
      "name": "python3",
      "display_name": "Python 3"
    },
    "language_info": {
      "name": "python"
    }
  },
  "cells": [
    {
      "cell_type": "markdown",
      "metadata": {
        "id": "view-in-github",
        "colab_type": "text"
      },
      "source": [
        "<a href=\"https://colab.research.google.com/github/SantospemIT/JetBrains/blob/master/Proyecto_Cocreacion_Final_Liliana_F_Santiago_P_.ipynb\" target=\"_parent\"><img src=\"https://colab.research.google.com/assets/colab-badge.svg\" alt=\"Open In Colab\"/></a>"
      ]
    },
    {
      "cell_type": "markdown",
      "source": [
        "# **PROYECTO FINAL IA ANALISIS DE INFORMACIÓN, **\n",
        "\n",
        "realizar el proceso de adquisición de datos. Utilice diferentes portales para la consecución de los datos a trabaja. Se recomienda hacer una búsqueda de los datos en datos abiertos Colombia. (https://www.datos.gov.co/)\n",
        "\n",
        "Evaluaciones Agropecuarias Municipales EVA Agricultura y Desarrollo Rural Base histórica de los años 2007 a 2018 texto en negrita, relacionada con la producción agrícola Nacional, adicionalmente, brinda a los diversos actores con especial énfasis en los productores, información agrícola regional y nacional que fortalece procesos productivos y de comercialización.\n",
        "\n",
        "**VIDEO PRESENTACION PROYECTO**  https://ai.invideo.io/watch/kZSdw4xuo25\n",
        "\n",
        "*OBJETIVO *\n",
        "*Soluciones app apoyo * Desarrollar una plataforma digital que empodere a los campesinos al proporcionarles herramientas basadas en inteligencia artificial y datos históricos para optimizar sus procesos de cultivo.\n",
        "\n",
        "1. Seleccion de un dataset\n",
        "\n",
        "Consolidar en una única plataforma datos relevantes sobre cultivos, clima, precios de mercado y acceso a suministros, facilitando la toma de decisiones informadas. # DATASET # Municipio de Cota Producción Agrícola Cota Cundinamarcahttps://www.datos.gov.co/Agricultura-y-Desarrollo-Rural/Evaluaciones-Agropecuarias-Municipales-EVA/2pnw-mmge/about_data\n",
        "\n",
        "2. Personalizar recomendaciones: Utilizar inteligencia artificial para analizar datos de cada cultivo y ofrecer recomendaciones personalizadas sobre las mejores prácticas agrícolas, fertilizantes, plaguicidas y variedades de cultivos.\n",
        "\n",
        "3. Predecir rendimientos: Desarrollar modelos predictivos para estimar los rendimientos futuros de los cultivos en función de factores climáticos, condiciones del suelo y prácticas agrícolas, permitiendo una planificación más eficiente."
      ],
      "metadata": {
        "id": "AVcZ9deGXE03"
      }
    },
    {
      "cell_type": "markdown",
      "source": [
        "# **Inteligencia Artificial para Apoyar a Campesinos**\n",
        "\n",
        "1. Recopilación y preprocesamiento de datos\n",
        "HORTALIZAS,TUBERCULOS Y PLATANOS,PLANTAS AROMATICAS,CONDIMENTARIA, 'MEDICINALES\n",
        "\n",
        "2. Construcción de modelos\n",
        "\n",
        "3. Preparar los datos\n",
        "\n",
        "3. Entrenar el modelo"
      ],
      "metadata": {
        "id": "wPMA6LFqXXNv"
      }
    },
    {
      "cell_type": "code",
      "source": [
        "#Punto 1\n",
        " !pip install sodapy  #INSTALAR BIBLIOTECA PYTHON"
      ],
      "metadata": {
        "colab": {
          "base_uri": "https://localhost:8080/"
        },
        "id": "ONHEmudAX6em",
        "outputId": "b423431b-2c38-4993-abe6-573169e41029"
      },
      "execution_count": null,
      "outputs": [
        {
          "output_type": "stream",
          "name": "stdout",
          "text": [
            "Collecting sodapy\n",
            "  Downloading sodapy-2.2.0-py2.py3-none-any.whl.metadata (15 kB)\n",
            "Requirement already satisfied: requests>=2.28.1 in /usr/local/lib/python3.10/dist-packages (from sodapy) (2.32.3)\n",
            "Requirement already satisfied: charset-normalizer<4,>=2 in /usr/local/lib/python3.10/dist-packages (from requests>=2.28.1->sodapy) (3.4.0)\n",
            "Requirement already satisfied: idna<4,>=2.5 in /usr/local/lib/python3.10/dist-packages (from requests>=2.28.1->sodapy) (3.10)\n",
            "Requirement already satisfied: urllib3<3,>=1.21.1 in /usr/local/lib/python3.10/dist-packages (from requests>=2.28.1->sodapy) (2.2.3)\n",
            "Requirement already satisfied: certifi>=2017.4.17 in /usr/local/lib/python3.10/dist-packages (from requests>=2.28.1->sodapy) (2024.8.30)\n",
            "Downloading sodapy-2.2.0-py2.py3-none-any.whl (15 kB)\n",
            "Installing collected packages: sodapy\n",
            "Successfully installed sodapy-2.2.0\n"
          ]
        }
      ]
    },
    {
      "cell_type": "code",
      "source": [
        "#Punto 2\n",
        "!pip install scikit-learn==1.3.0   # Instalar biblioteca de aprendisaje automatico"
      ],
      "metadata": {
        "colab": {
          "base_uri": "https://localhost:8080/"
        },
        "id": "0hkiKnmRYEla",
        "outputId": "104ea1e4-db59-43d3-d94b-1ee47ab3534e"
      },
      "execution_count": null,
      "outputs": [
        {
          "output_type": "stream",
          "name": "stdout",
          "text": [
            "Collecting scikit-learn==1.3.0\n",
            "  Downloading scikit_learn-1.3.0-cp310-cp310-manylinux_2_17_x86_64.manylinux2014_x86_64.whl.metadata (11 kB)\n",
            "Requirement already satisfied: numpy>=1.17.3 in /usr/local/lib/python3.10/dist-packages (from scikit-learn==1.3.0) (1.26.4)\n",
            "Requirement already satisfied: scipy>=1.5.0 in /usr/local/lib/python3.10/dist-packages (from scikit-learn==1.3.0) (1.13.1)\n",
            "Requirement already satisfied: joblib>=1.1.1 in /usr/local/lib/python3.10/dist-packages (from scikit-learn==1.3.0) (1.4.2)\n",
            "Requirement already satisfied: threadpoolctl>=2.0.0 in /usr/local/lib/python3.10/dist-packages (from scikit-learn==1.3.0) (3.5.0)\n",
            "Downloading scikit_learn-1.3.0-cp310-cp310-manylinux_2_17_x86_64.manylinux2014_x86_64.whl (10.8 MB)\n",
            "\u001b[2K   \u001b[90m━━━━━━━━━━━━━━━━━━━━━━━━━━━━━━━━━━━━━━━━\u001b[0m \u001b[32m10.8/10.8 MB\u001b[0m \u001b[31m25.1 MB/s\u001b[0m eta \u001b[36m0:00:00\u001b[0m\n",
            "\u001b[?25hInstalling collected packages: scikit-learn\n",
            "  Attempting uninstall: scikit-learn\n",
            "    Found existing installation: scikit-learn 1.5.2\n",
            "    Uninstalling scikit-learn-1.5.2:\n",
            "      Successfully uninstalled scikit-learn-1.5.2\n",
            "\u001b[31mERROR: pip's dependency resolver does not currently take into account all the packages that are installed. This behaviour is the source of the following dependency conflicts.\n",
            "mlxtend 0.23.3 requires scikit-learn>=1.3.1, but you have scikit-learn 1.3.0 which is incompatible.\u001b[0m\u001b[31m\n",
            "\u001b[0mSuccessfully installed scikit-learn-1.3.0\n"
          ]
        }
      ]
    },
    {
      "cell_type": "code",
      "source": [
        "#Punto 3\n",
        "#Cargue el dataset disponible en  extraccion del dataset y lo convertimos en un dataframe\n",
        "#https://www.datos.gov.co/Agricultura-y-Desarrollo-Rural/Evaluaciones-Agropecuarias-Municipales-EVA/2pnw-mmge/about_data\n",
        "import pandas as pd  # la manipulación y el análisis de datos\n",
        "import matplotlib.pyplot as plt\n",
        "from sklearn.cluster import KMeans  # algoritmo de aprendizaje automático no supervisado que se utiliza para agrupar datos en clusters (grupos) en función de su similitud.\n",
        "import numpy as np  #nos ayuda a trabajar con oepradores aritmeticos mas de 5000 datos\n",
        "from sodapy import Socrata  # esta clase me permite interactuar con API\n",
        "#MI DATASET\n",
        "cliente=Socrata('www.datos.gov.co', None)\n",
        "result=cliente.get(\"2pnw-mmge\")  #almacenado en la variable result\n",
        "#se crea variable df que me trae la libreria panda\n",
        "df=pd.DataFrame.from_records(result)  # dataframe hace la conversion conrrespondiente\n",
        "df.head(500)  #Imprima el contenido de mi dataframe\n",
        "#Definir Datos y campos con los cuales se va a trabajar\n",
        "#Crear un nuevo dataframe"
      ],
      "metadata": {
        "colab": {
          "base_uri": "https://localhost:8080/",
          "height": 583
        },
        "id": "srLJjH7SYQ2B",
        "outputId": "e7d9f2d7-402d-43fb-d586-d8249c3008e5"
      },
      "execution_count": null,
      "outputs": [
        {
          "output_type": "stream",
          "name": "stderr",
          "text": [
            "WARNING:root:Requests made without an app_token will be subject to strict throttling limits.\n"
          ]
        },
        {
          "output_type": "execute_result",
          "data": {
            "text/plain": [
              "    c_d_dep        departamento c_d_mun   municipio       grupo_de_cultivo  \\\n",
              "0        15              BOYACA   15114    BUSBANZA             HORTALIZAS   \n",
              "1        25        CUNDINAMARCA   25754      SOACHA             HORTALIZAS   \n",
              "2        25        CUNDINAMARCA   25214        COTA             HORTALIZAS   \n",
              "3        54  NORTE DE SANTANDER   54405  LOS PATIOS             HORTALIZAS   \n",
              "4        54  NORTE DE SANTANDER   54518    PAMPLONA             HORTALIZAS   \n",
              "..      ...                 ...     ...         ...                    ...   \n",
              "495      41               HUILA   41807      TIMANA  TUBERCULOS Y PLATANOS   \n",
              "496      41               HUILA   41244       ELIAS  TUBERCULOS Y PLATANOS   \n",
              "497      41               HUILA   41357      IQUIRA  TUBERCULOS Y PLATANOS   \n",
              "498      41               HUILA   41020   ALGECIRAS  TUBERCULOS Y PLATANOS   \n",
              "499      52              NARIÑO   52378     LA CRUZ  TUBERCULOS Y PLATANOS   \n",
              "\n",
              "    subgrupo_de_cultivo cultivo desagregaci_n_regional_y   a_o periodo  \\\n",
              "0                ACELGA  ACELGA                   ACELGA  2006   2006B   \n",
              "1                ACELGA  ACELGA                   ACELGA  2006   2006B   \n",
              "2                ACELGA  ACELGA                   ACELGA  2006   2006B   \n",
              "3                ACELGA  ACELGA                   ACELGA  2006   2006B   \n",
              "4                ACELGA  ACELGA                   ACELGA  2006   2006B   \n",
              "..                  ...     ...                      ...   ...     ...   \n",
              "495              ACHIRA  ACHIRA                   ACHIRA  2008    2008   \n",
              "496              ACHIRA  ACHIRA                   ACHIRA  2008    2008   \n",
              "497              ACHIRA  ACHIRA                   ACHIRA  2008    2008   \n",
              "498              ACHIRA  ACHIRA                   ACHIRA  2008    2008   \n",
              "499              ACHIRA  ACHIRA                   ACHIRA  2008    2008   \n",
              "\n",
              "    rea_sembrada_ha rea_cosechada_ha producci_n_t rendimiento_t_ha  \\\n",
              "0                 2                1            1             1.00   \n",
              "1                82               80         1440            18.00   \n",
              "2                 2                2           26            17.33   \n",
              "3                 3                3           48            16.00   \n",
              "4                 1                1            5            10.00   \n",
              "..              ...              ...          ...              ...   \n",
              "495              10               10           20             2.00   \n",
              "496               7                7           11             1.60   \n",
              "497               7                7           11             1.60   \n",
              "498               2                2            3             1.60   \n",
              "499             110              110           90             0.82   \n",
              "\n",
              "    estado_fisico_produccion nombre_cientifico ciclo_de_cultivo  \n",
              "0               FRUTO FRESCO     BETA VULGARIS      TRANSITORIO  \n",
              "1               FRUTO FRESCO     BETA VULGARIS      TRANSITORIO  \n",
              "2               FRUTO FRESCO     BETA VULGARIS      TRANSITORIO  \n",
              "3               FRUTO FRESCO     BETA VULGARIS      TRANSITORIO  \n",
              "4               FRUTO FRESCO     BETA VULGARIS      TRANSITORIO  \n",
              "..                       ...               ...              ...  \n",
              "495         TUBERCULO FRESCO      CANNA EDULIS            ANUAL  \n",
              "496         TUBERCULO FRESCO      CANNA EDULIS            ANUAL  \n",
              "497         TUBERCULO FRESCO      CANNA EDULIS            ANUAL  \n",
              "498         TUBERCULO FRESCO      CANNA EDULIS            ANUAL  \n",
              "499         TUBERCULO FRESCO      CANNA EDULIS            ANUAL  \n",
              "\n",
              "[500 rows x 17 columns]"
            ],
            "text/html": [
              "\n",
              "  <div id=\"df-5f5fae81-ec64-44ba-bc03-8155f13f168e\" class=\"colab-df-container\">\n",
              "    <div>\n",
              "<style scoped>\n",
              "    .dataframe tbody tr th:only-of-type {\n",
              "        vertical-align: middle;\n",
              "    }\n",
              "\n",
              "    .dataframe tbody tr th {\n",
              "        vertical-align: top;\n",
              "    }\n",
              "\n",
              "    .dataframe thead th {\n",
              "        text-align: right;\n",
              "    }\n",
              "</style>\n",
              "<table border=\"1\" class=\"dataframe\">\n",
              "  <thead>\n",
              "    <tr style=\"text-align: right;\">\n",
              "      <th></th>\n",
              "      <th>c_d_dep</th>\n",
              "      <th>departamento</th>\n",
              "      <th>c_d_mun</th>\n",
              "      <th>municipio</th>\n",
              "      <th>grupo_de_cultivo</th>\n",
              "      <th>subgrupo_de_cultivo</th>\n",
              "      <th>cultivo</th>\n",
              "      <th>desagregaci_n_regional_y</th>\n",
              "      <th>a_o</th>\n",
              "      <th>periodo</th>\n",
              "      <th>rea_sembrada_ha</th>\n",
              "      <th>rea_cosechada_ha</th>\n",
              "      <th>producci_n_t</th>\n",
              "      <th>rendimiento_t_ha</th>\n",
              "      <th>estado_fisico_produccion</th>\n",
              "      <th>nombre_cientifico</th>\n",
              "      <th>ciclo_de_cultivo</th>\n",
              "    </tr>\n",
              "  </thead>\n",
              "  <tbody>\n",
              "    <tr>\n",
              "      <th>0</th>\n",
              "      <td>15</td>\n",
              "      <td>BOYACA</td>\n",
              "      <td>15114</td>\n",
              "      <td>BUSBANZA</td>\n",
              "      <td>HORTALIZAS</td>\n",
              "      <td>ACELGA</td>\n",
              "      <td>ACELGA</td>\n",
              "      <td>ACELGA</td>\n",
              "      <td>2006</td>\n",
              "      <td>2006B</td>\n",
              "      <td>2</td>\n",
              "      <td>1</td>\n",
              "      <td>1</td>\n",
              "      <td>1.00</td>\n",
              "      <td>FRUTO FRESCO</td>\n",
              "      <td>BETA VULGARIS</td>\n",
              "      <td>TRANSITORIO</td>\n",
              "    </tr>\n",
              "    <tr>\n",
              "      <th>1</th>\n",
              "      <td>25</td>\n",
              "      <td>CUNDINAMARCA</td>\n",
              "      <td>25754</td>\n",
              "      <td>SOACHA</td>\n",
              "      <td>HORTALIZAS</td>\n",
              "      <td>ACELGA</td>\n",
              "      <td>ACELGA</td>\n",
              "      <td>ACELGA</td>\n",
              "      <td>2006</td>\n",
              "      <td>2006B</td>\n",
              "      <td>82</td>\n",
              "      <td>80</td>\n",
              "      <td>1440</td>\n",
              "      <td>18.00</td>\n",
              "      <td>FRUTO FRESCO</td>\n",
              "      <td>BETA VULGARIS</td>\n",
              "      <td>TRANSITORIO</td>\n",
              "    </tr>\n",
              "    <tr>\n",
              "      <th>2</th>\n",
              "      <td>25</td>\n",
              "      <td>CUNDINAMARCA</td>\n",
              "      <td>25214</td>\n",
              "      <td>COTA</td>\n",
              "      <td>HORTALIZAS</td>\n",
              "      <td>ACELGA</td>\n",
              "      <td>ACELGA</td>\n",
              "      <td>ACELGA</td>\n",
              "      <td>2006</td>\n",
              "      <td>2006B</td>\n",
              "      <td>2</td>\n",
              "      <td>2</td>\n",
              "      <td>26</td>\n",
              "      <td>17.33</td>\n",
              "      <td>FRUTO FRESCO</td>\n",
              "      <td>BETA VULGARIS</td>\n",
              "      <td>TRANSITORIO</td>\n",
              "    </tr>\n",
              "    <tr>\n",
              "      <th>3</th>\n",
              "      <td>54</td>\n",
              "      <td>NORTE DE SANTANDER</td>\n",
              "      <td>54405</td>\n",
              "      <td>LOS PATIOS</td>\n",
              "      <td>HORTALIZAS</td>\n",
              "      <td>ACELGA</td>\n",
              "      <td>ACELGA</td>\n",
              "      <td>ACELGA</td>\n",
              "      <td>2006</td>\n",
              "      <td>2006B</td>\n",
              "      <td>3</td>\n",
              "      <td>3</td>\n",
              "      <td>48</td>\n",
              "      <td>16.00</td>\n",
              "      <td>FRUTO FRESCO</td>\n",
              "      <td>BETA VULGARIS</td>\n",
              "      <td>TRANSITORIO</td>\n",
              "    </tr>\n",
              "    <tr>\n",
              "      <th>4</th>\n",
              "      <td>54</td>\n",
              "      <td>NORTE DE SANTANDER</td>\n",
              "      <td>54518</td>\n",
              "      <td>PAMPLONA</td>\n",
              "      <td>HORTALIZAS</td>\n",
              "      <td>ACELGA</td>\n",
              "      <td>ACELGA</td>\n",
              "      <td>ACELGA</td>\n",
              "      <td>2006</td>\n",
              "      <td>2006B</td>\n",
              "      <td>1</td>\n",
              "      <td>1</td>\n",
              "      <td>5</td>\n",
              "      <td>10.00</td>\n",
              "      <td>FRUTO FRESCO</td>\n",
              "      <td>BETA VULGARIS</td>\n",
              "      <td>TRANSITORIO</td>\n",
              "    </tr>\n",
              "    <tr>\n",
              "      <th>...</th>\n",
              "      <td>...</td>\n",
              "      <td>...</td>\n",
              "      <td>...</td>\n",
              "      <td>...</td>\n",
              "      <td>...</td>\n",
              "      <td>...</td>\n",
              "      <td>...</td>\n",
              "      <td>...</td>\n",
              "      <td>...</td>\n",
              "      <td>...</td>\n",
              "      <td>...</td>\n",
              "      <td>...</td>\n",
              "      <td>...</td>\n",
              "      <td>...</td>\n",
              "      <td>...</td>\n",
              "      <td>...</td>\n",
              "      <td>...</td>\n",
              "    </tr>\n",
              "    <tr>\n",
              "      <th>495</th>\n",
              "      <td>41</td>\n",
              "      <td>HUILA</td>\n",
              "      <td>41807</td>\n",
              "      <td>TIMANA</td>\n",
              "      <td>TUBERCULOS Y PLATANOS</td>\n",
              "      <td>ACHIRA</td>\n",
              "      <td>ACHIRA</td>\n",
              "      <td>ACHIRA</td>\n",
              "      <td>2008</td>\n",
              "      <td>2008</td>\n",
              "      <td>10</td>\n",
              "      <td>10</td>\n",
              "      <td>20</td>\n",
              "      <td>2.00</td>\n",
              "      <td>TUBERCULO FRESCO</td>\n",
              "      <td>CANNA EDULIS</td>\n",
              "      <td>ANUAL</td>\n",
              "    </tr>\n",
              "    <tr>\n",
              "      <th>496</th>\n",
              "      <td>41</td>\n",
              "      <td>HUILA</td>\n",
              "      <td>41244</td>\n",
              "      <td>ELIAS</td>\n",
              "      <td>TUBERCULOS Y PLATANOS</td>\n",
              "      <td>ACHIRA</td>\n",
              "      <td>ACHIRA</td>\n",
              "      <td>ACHIRA</td>\n",
              "      <td>2008</td>\n",
              "      <td>2008</td>\n",
              "      <td>7</td>\n",
              "      <td>7</td>\n",
              "      <td>11</td>\n",
              "      <td>1.60</td>\n",
              "      <td>TUBERCULO FRESCO</td>\n",
              "      <td>CANNA EDULIS</td>\n",
              "      <td>ANUAL</td>\n",
              "    </tr>\n",
              "    <tr>\n",
              "      <th>497</th>\n",
              "      <td>41</td>\n",
              "      <td>HUILA</td>\n",
              "      <td>41357</td>\n",
              "      <td>IQUIRA</td>\n",
              "      <td>TUBERCULOS Y PLATANOS</td>\n",
              "      <td>ACHIRA</td>\n",
              "      <td>ACHIRA</td>\n",
              "      <td>ACHIRA</td>\n",
              "      <td>2008</td>\n",
              "      <td>2008</td>\n",
              "      <td>7</td>\n",
              "      <td>7</td>\n",
              "      <td>11</td>\n",
              "      <td>1.60</td>\n",
              "      <td>TUBERCULO FRESCO</td>\n",
              "      <td>CANNA EDULIS</td>\n",
              "      <td>ANUAL</td>\n",
              "    </tr>\n",
              "    <tr>\n",
              "      <th>498</th>\n",
              "      <td>41</td>\n",
              "      <td>HUILA</td>\n",
              "      <td>41020</td>\n",
              "      <td>ALGECIRAS</td>\n",
              "      <td>TUBERCULOS Y PLATANOS</td>\n",
              "      <td>ACHIRA</td>\n",
              "      <td>ACHIRA</td>\n",
              "      <td>ACHIRA</td>\n",
              "      <td>2008</td>\n",
              "      <td>2008</td>\n",
              "      <td>2</td>\n",
              "      <td>2</td>\n",
              "      <td>3</td>\n",
              "      <td>1.60</td>\n",
              "      <td>TUBERCULO FRESCO</td>\n",
              "      <td>CANNA EDULIS</td>\n",
              "      <td>ANUAL</td>\n",
              "    </tr>\n",
              "    <tr>\n",
              "      <th>499</th>\n",
              "      <td>52</td>\n",
              "      <td>NARIÑO</td>\n",
              "      <td>52378</td>\n",
              "      <td>LA CRUZ</td>\n",
              "      <td>TUBERCULOS Y PLATANOS</td>\n",
              "      <td>ACHIRA</td>\n",
              "      <td>ACHIRA</td>\n",
              "      <td>ACHIRA</td>\n",
              "      <td>2008</td>\n",
              "      <td>2008</td>\n",
              "      <td>110</td>\n",
              "      <td>110</td>\n",
              "      <td>90</td>\n",
              "      <td>0.82</td>\n",
              "      <td>TUBERCULO FRESCO</td>\n",
              "      <td>CANNA EDULIS</td>\n",
              "      <td>ANUAL</td>\n",
              "    </tr>\n",
              "  </tbody>\n",
              "</table>\n",
              "<p>500 rows × 17 columns</p>\n",
              "</div>\n",
              "    <div class=\"colab-df-buttons\">\n",
              "\n",
              "  <div class=\"colab-df-container\">\n",
              "    <button class=\"colab-df-convert\" onclick=\"convertToInteractive('df-5f5fae81-ec64-44ba-bc03-8155f13f168e')\"\n",
              "            title=\"Convert this dataframe to an interactive table.\"\n",
              "            style=\"display:none;\">\n",
              "\n",
              "  <svg xmlns=\"http://www.w3.org/2000/svg\" height=\"24px\" viewBox=\"0 -960 960 960\">\n",
              "    <path d=\"M120-120v-720h720v720H120Zm60-500h600v-160H180v160Zm220 220h160v-160H400v160Zm0 220h160v-160H400v160ZM180-400h160v-160H180v160Zm440 0h160v-160H620v160ZM180-180h160v-160H180v160Zm440 0h160v-160H620v160Z\"/>\n",
              "  </svg>\n",
              "    </button>\n",
              "\n",
              "  <style>\n",
              "    .colab-df-container {\n",
              "      display:flex;\n",
              "      gap: 12px;\n",
              "    }\n",
              "\n",
              "    .colab-df-convert {\n",
              "      background-color: #E8F0FE;\n",
              "      border: none;\n",
              "      border-radius: 50%;\n",
              "      cursor: pointer;\n",
              "      display: none;\n",
              "      fill: #1967D2;\n",
              "      height: 32px;\n",
              "      padding: 0 0 0 0;\n",
              "      width: 32px;\n",
              "    }\n",
              "\n",
              "    .colab-df-convert:hover {\n",
              "      background-color: #E2EBFA;\n",
              "      box-shadow: 0px 1px 2px rgba(60, 64, 67, 0.3), 0px 1px 3px 1px rgba(60, 64, 67, 0.15);\n",
              "      fill: #174EA6;\n",
              "    }\n",
              "\n",
              "    .colab-df-buttons div {\n",
              "      margin-bottom: 4px;\n",
              "    }\n",
              "\n",
              "    [theme=dark] .colab-df-convert {\n",
              "      background-color: #3B4455;\n",
              "      fill: #D2E3FC;\n",
              "    }\n",
              "\n",
              "    [theme=dark] .colab-df-convert:hover {\n",
              "      background-color: #434B5C;\n",
              "      box-shadow: 0px 1px 3px 1px rgba(0, 0, 0, 0.15);\n",
              "      filter: drop-shadow(0px 1px 2px rgba(0, 0, 0, 0.3));\n",
              "      fill: #FFFFFF;\n",
              "    }\n",
              "  </style>\n",
              "\n",
              "    <script>\n",
              "      const buttonEl =\n",
              "        document.querySelector('#df-5f5fae81-ec64-44ba-bc03-8155f13f168e button.colab-df-convert');\n",
              "      buttonEl.style.display =\n",
              "        google.colab.kernel.accessAllowed ? 'block' : 'none';\n",
              "\n",
              "      async function convertToInteractive(key) {\n",
              "        const element = document.querySelector('#df-5f5fae81-ec64-44ba-bc03-8155f13f168e');\n",
              "        const dataTable =\n",
              "          await google.colab.kernel.invokeFunction('convertToInteractive',\n",
              "                                                    [key], {});\n",
              "        if (!dataTable) return;\n",
              "\n",
              "        const docLinkHtml = 'Like what you see? Visit the ' +\n",
              "          '<a target=\"_blank\" href=https://colab.research.google.com/notebooks/data_table.ipynb>data table notebook</a>'\n",
              "          + ' to learn more about interactive tables.';\n",
              "        element.innerHTML = '';\n",
              "        dataTable['output_type'] = 'display_data';\n",
              "        await google.colab.output.renderOutput(dataTable, element);\n",
              "        const docLink = document.createElement('div');\n",
              "        docLink.innerHTML = docLinkHtml;\n",
              "        element.appendChild(docLink);\n",
              "      }\n",
              "    </script>\n",
              "  </div>\n",
              "\n",
              "\n",
              "<div id=\"df-09dda5c6-1cff-4cbd-b267-6c0bcf397ed4\">\n",
              "  <button class=\"colab-df-quickchart\" onclick=\"quickchart('df-09dda5c6-1cff-4cbd-b267-6c0bcf397ed4')\"\n",
              "            title=\"Suggest charts\"\n",
              "            style=\"display:none;\">\n",
              "\n",
              "<svg xmlns=\"http://www.w3.org/2000/svg\" height=\"24px\"viewBox=\"0 0 24 24\"\n",
              "     width=\"24px\">\n",
              "    <g>\n",
              "        <path d=\"M19 3H5c-1.1 0-2 .9-2 2v14c0 1.1.9 2 2 2h14c1.1 0 2-.9 2-2V5c0-1.1-.9-2-2-2zM9 17H7v-7h2v7zm4 0h-2V7h2v10zm4 0h-2v-4h2v4z\"/>\n",
              "    </g>\n",
              "</svg>\n",
              "  </button>\n",
              "\n",
              "<style>\n",
              "  .colab-df-quickchart {\n",
              "      --bg-color: #E8F0FE;\n",
              "      --fill-color: #1967D2;\n",
              "      --hover-bg-color: #E2EBFA;\n",
              "      --hover-fill-color: #174EA6;\n",
              "      --disabled-fill-color: #AAA;\n",
              "      --disabled-bg-color: #DDD;\n",
              "  }\n",
              "\n",
              "  [theme=dark] .colab-df-quickchart {\n",
              "      --bg-color: #3B4455;\n",
              "      --fill-color: #D2E3FC;\n",
              "      --hover-bg-color: #434B5C;\n",
              "      --hover-fill-color: #FFFFFF;\n",
              "      --disabled-bg-color: #3B4455;\n",
              "      --disabled-fill-color: #666;\n",
              "  }\n",
              "\n",
              "  .colab-df-quickchart {\n",
              "    background-color: var(--bg-color);\n",
              "    border: none;\n",
              "    border-radius: 50%;\n",
              "    cursor: pointer;\n",
              "    display: none;\n",
              "    fill: var(--fill-color);\n",
              "    height: 32px;\n",
              "    padding: 0;\n",
              "    width: 32px;\n",
              "  }\n",
              "\n",
              "  .colab-df-quickchart:hover {\n",
              "    background-color: var(--hover-bg-color);\n",
              "    box-shadow: 0 1px 2px rgba(60, 64, 67, 0.3), 0 1px 3px 1px rgba(60, 64, 67, 0.15);\n",
              "    fill: var(--button-hover-fill-color);\n",
              "  }\n",
              "\n",
              "  .colab-df-quickchart-complete:disabled,\n",
              "  .colab-df-quickchart-complete:disabled:hover {\n",
              "    background-color: var(--disabled-bg-color);\n",
              "    fill: var(--disabled-fill-color);\n",
              "    box-shadow: none;\n",
              "  }\n",
              "\n",
              "  .colab-df-spinner {\n",
              "    border: 2px solid var(--fill-color);\n",
              "    border-color: transparent;\n",
              "    border-bottom-color: var(--fill-color);\n",
              "    animation:\n",
              "      spin 1s steps(1) infinite;\n",
              "  }\n",
              "\n",
              "  @keyframes spin {\n",
              "    0% {\n",
              "      border-color: transparent;\n",
              "      border-bottom-color: var(--fill-color);\n",
              "      border-left-color: var(--fill-color);\n",
              "    }\n",
              "    20% {\n",
              "      border-color: transparent;\n",
              "      border-left-color: var(--fill-color);\n",
              "      border-top-color: var(--fill-color);\n",
              "    }\n",
              "    30% {\n",
              "      border-color: transparent;\n",
              "      border-left-color: var(--fill-color);\n",
              "      border-top-color: var(--fill-color);\n",
              "      border-right-color: var(--fill-color);\n",
              "    }\n",
              "    40% {\n",
              "      border-color: transparent;\n",
              "      border-right-color: var(--fill-color);\n",
              "      border-top-color: var(--fill-color);\n",
              "    }\n",
              "    60% {\n",
              "      border-color: transparent;\n",
              "      border-right-color: var(--fill-color);\n",
              "    }\n",
              "    80% {\n",
              "      border-color: transparent;\n",
              "      border-right-color: var(--fill-color);\n",
              "      border-bottom-color: var(--fill-color);\n",
              "    }\n",
              "    90% {\n",
              "      border-color: transparent;\n",
              "      border-bottom-color: var(--fill-color);\n",
              "    }\n",
              "  }\n",
              "</style>\n",
              "\n",
              "  <script>\n",
              "    async function quickchart(key) {\n",
              "      const quickchartButtonEl =\n",
              "        document.querySelector('#' + key + ' button');\n",
              "      quickchartButtonEl.disabled = true;  // To prevent multiple clicks.\n",
              "      quickchartButtonEl.classList.add('colab-df-spinner');\n",
              "      try {\n",
              "        const charts = await google.colab.kernel.invokeFunction(\n",
              "            'suggestCharts', [key], {});\n",
              "      } catch (error) {\n",
              "        console.error('Error during call to suggestCharts:', error);\n",
              "      }\n",
              "      quickchartButtonEl.classList.remove('colab-df-spinner');\n",
              "      quickchartButtonEl.classList.add('colab-df-quickchart-complete');\n",
              "    }\n",
              "    (() => {\n",
              "      let quickchartButtonEl =\n",
              "        document.querySelector('#df-09dda5c6-1cff-4cbd-b267-6c0bcf397ed4 button');\n",
              "      quickchartButtonEl.style.display =\n",
              "        google.colab.kernel.accessAllowed ? 'block' : 'none';\n",
              "    })();\n",
              "  </script>\n",
              "</div>\n",
              "\n",
              "    </div>\n",
              "  </div>\n"
            ],
            "application/vnd.google.colaboratory.intrinsic+json": {
              "type": "dataframe",
              "summary": "{\n  \"name\": \"#Crear un nuevo dataframe\",\n  \"rows\": 500,\n  \"fields\": [\n    {\n      \"column\": \"c_d_dep\",\n      \"properties\": {\n        \"dtype\": \"category\",\n        \"num_unique_values\": 19,\n        \"samples\": [\n          \"15\",\n          \"76\",\n          \"5\"\n        ],\n        \"semantic_type\": \"\",\n        \"description\": \"\"\n      }\n    },\n    {\n      \"column\": \"departamento\",\n      \"properties\": {\n        \"dtype\": \"category\",\n        \"num_unique_values\": 19,\n        \"samples\": [\n          \"BOYACA\",\n          \"VALLE DEL CAUCA\",\n          \"ANTIOQUIA\"\n        ],\n        \"semantic_type\": \"\",\n        \"description\": \"\"\n      }\n    },\n    {\n      \"column\": \"c_d_mun\",\n      \"properties\": {\n        \"dtype\": \"category\",\n        \"num_unique_values\": 89,\n        \"samples\": [\n          \"27077\",\n          \"27787\",\n          \"76890\"\n        ],\n        \"semantic_type\": \"\",\n        \"description\": \"\"\n      }\n    },\n    {\n      \"column\": \"municipio\",\n      \"properties\": {\n        \"dtype\": \"category\",\n        \"num_unique_values\": 88,\n        \"samples\": [\n          \"LA PLATA\",\n          \"BUSBANZA\",\n          \"LA LLANADA\"\n        ],\n        \"semantic_type\": \"\",\n        \"description\": \"\"\n      }\n    },\n    {\n      \"column\": \"grupo_de_cultivo\",\n      \"properties\": {\n        \"dtype\": \"category\",\n        \"num_unique_values\": 3,\n        \"samples\": [\n          \"HORTALIZAS\",\n          \"PLANTAS AROMATICAS, CONDIMENTARIAS Y MEDICINALES\",\n          \"TUBERCULOS Y PLATANOS\"\n        ],\n        \"semantic_type\": \"\",\n        \"description\": \"\"\n      }\n    },\n    {\n      \"column\": \"subgrupo_de_cultivo\",\n      \"properties\": {\n        \"dtype\": \"category\",\n        \"num_unique_values\": 5,\n        \"samples\": [\n          \"PLANTAS MEDICINALES\",\n          \"PLANTAS CONDIMENTARIAS\",\n          \"MALANGA\"\n        ],\n        \"semantic_type\": \"\",\n        \"description\": \"\"\n      }\n    },\n    {\n      \"column\": \"cultivo\",\n      \"properties\": {\n        \"dtype\": \"category\",\n        \"num_unique_values\": 5,\n        \"samples\": [\n          \"ACHICORIA\",\n          \"ACHIOTE\",\n          \"MALANGA\"\n        ],\n        \"semantic_type\": \"\",\n        \"description\": \"\"\n      }\n    },\n    {\n      \"column\": \"desagregaci_n_regional_y\",\n      \"properties\": {\n        \"dtype\": \"category\",\n        \"num_unique_values\": 5,\n        \"samples\": [\n          \"ACHICORIA\",\n          \"ACHIOTE (BIJA)\",\n          \"ACHIN\"\n        ],\n        \"semantic_type\": \"\",\n        \"description\": \"\"\n      }\n    },\n    {\n      \"column\": \"a_o\",\n      \"properties\": {\n        \"dtype\": \"object\",\n        \"num_unique_values\": 13,\n        \"samples\": [\n          \"2017\",\n          \"2015\",\n          \"2006\"\n        ],\n        \"semantic_type\": \"\",\n        \"description\": \"\"\n      }\n    },\n    {\n      \"column\": \"periodo\",\n      \"properties\": {\n        \"dtype\": \"category\",\n        \"num_unique_values\": 36,\n        \"samples\": [\n          \"2018\",\n          \"2013A\",\n          \"2009\"\n        ],\n        \"semantic_type\": \"\",\n        \"description\": \"\"\n      }\n    },\n    {\n      \"column\": \"rea_sembrada_ha\",\n      \"properties\": {\n        \"dtype\": \"category\",\n        \"num_unique_values\": 85,\n        \"samples\": [\n          \"298\",\n          \"2\",\n          \"59\"\n        ],\n        \"semantic_type\": \"\",\n        \"description\": \"\"\n      }\n    },\n    {\n      \"column\": \"rea_cosechada_ha\",\n      \"properties\": {\n        \"dtype\": \"category\",\n        \"num_unique_values\": 79,\n        \"samples\": [\n          \"44\",\n          \"1\",\n          \"15\"\n        ],\n        \"semantic_type\": \"\",\n        \"description\": \"\"\n      }\n    },\n    {\n      \"column\": \"producci_n_t\",\n      \"properties\": {\n        \"dtype\": \"category\",\n        \"num_unique_values\": 163,\n        \"samples\": [\n          \"360\",\n          \"111\",\n          \"10000\"\n        ],\n        \"semantic_type\": \"\",\n        \"description\": \"\"\n      }\n    },\n    {\n      \"column\": \"rendimiento_t_ha\",\n      \"properties\": {\n        \"dtype\": \"category\",\n        \"num_unique_values\": 91,\n        \"samples\": [\n          \"16.80\",\n          \"0.28\",\n          \"13.00\"\n        ],\n        \"semantic_type\": \"\",\n        \"description\": \"\"\n      }\n    },\n    {\n      \"column\": \"estado_fisico_produccion\",\n      \"properties\": {\n        \"dtype\": \"category\",\n        \"num_unique_values\": 3,\n        \"samples\": [\n          \"FRUTO FRESCO\",\n          \"HOJA FRESCA\",\n          \"TUBERCULO FRESCO\"\n        ],\n        \"semantic_type\": \"\",\n        \"description\": \"\"\n      }\n    },\n    {\n      \"column\": \"nombre_cientifico\",\n      \"properties\": {\n        \"dtype\": \"category\",\n        \"num_unique_values\": 5,\n        \"samples\": [\n          \"CICHORIUM INTYBUS\",\n          \"BIXA ORELLANA\",\n          \"COLOCASIA ESCULENTA\"\n        ],\n        \"semantic_type\": \"\",\n        \"description\": \"\"\n      }\n    },\n    {\n      \"column\": \"ciclo_de_cultivo\",\n      \"properties\": {\n        \"dtype\": \"category\",\n        \"num_unique_values\": 2,\n        \"samples\": [\n          \"ANUAL\",\n          \"TRANSITORIO\"\n        ],\n        \"semantic_type\": \"\",\n        \"description\": \"\"\n      }\n    }\n  ]\n}"
            }
          },
          "metadata": {},
          "execution_count": 3
        }
      ]
    },
    {
      "cell_type": "code",
      "source": [
        "# Punto 4 #SE MUESTRA LA INFORMACION DEL DATA SET Y SELECCIONAR LOS CAMPOS Y\n",
        "# DATOS A UTILIZAR PARA EL ANALISIS\n",
        "df.info()"
      ],
      "metadata": {
        "colab": {
          "base_uri": "https://localhost:8080/"
        },
        "id": "4zyoye_fYv86",
        "outputId": "ab3bd564-10b1-4f91-f91e-7ca3f75955c5"
      },
      "execution_count": null,
      "outputs": [
        {
          "output_type": "stream",
          "name": "stdout",
          "text": [
            "<class 'pandas.core.frame.DataFrame'>\n",
            "RangeIndex: 1000 entries, 0 to 999\n",
            "Data columns (total 17 columns):\n",
            " #   Column                    Non-Null Count  Dtype \n",
            "---  ------                    --------------  ----- \n",
            " 0   c_d_dep                   1000 non-null   object\n",
            " 1   departamento              1000 non-null   object\n",
            " 2   c_d_mun                   1000 non-null   object\n",
            " 3   municipio                 999 non-null    object\n",
            " 4   grupo_de_cultivo          1000 non-null   object\n",
            " 5   subgrupo_de_cultivo       1000 non-null   object\n",
            " 6   cultivo                   1000 non-null   object\n",
            " 7   desagregaci_n_regional_y  1000 non-null   object\n",
            " 8   a_o                       1000 non-null   object\n",
            " 9   periodo                   1000 non-null   object\n",
            " 10  rea_sembrada_ha           1000 non-null   object\n",
            " 11  rea_cosechada_ha          1000 non-null   object\n",
            " 12  producci_n_t              1000 non-null   object\n",
            " 13  rendimiento_t_ha          932 non-null    object\n",
            " 14  estado_fisico_produccion  1000 non-null   object\n",
            " 15  nombre_cientifico         1000 non-null   object\n",
            " 16  ciclo_de_cultivo          1000 non-null   object\n",
            "dtypes: object(17)\n",
            "memory usage: 132.9+ KB\n"
          ]
        }
      ]
    },
    {
      "cell_type": "code",
      "source": [
        "import os\n",
        "import pandas as pd"
      ],
      "metadata": {
        "id": "7FZlkdFBZhRp"
      },
      "execution_count": null,
      "outputs": []
    },
    {
      "cell_type": "code",
      "source": [
        "# Crear un diccionario de datos\n",
        "result1 = {'cultivo_transitorio': ['ACELGA','ACHIRA','RABANO','ACHIOTE', ' ZANAHORIA', 'RABANO' ],  #creo el diccionario con los nombre claves de cada columna (result1)\n",
        "           'rea_cosechada_ha': [116.2, 58.8, 12.1,23, 11.2, 4.5],  # los valores son listas que continene los datos de cada columna # ACHIOTE','MALANGA','ACELGA', 'ACHIRA', 'ZANAHORIA', 'ARVEJA', 'RABANO'\n",
        "           'producci_n_t': [2322.0, 638, 435, 344, 650, 1200],\n",
        "            'a_o': ['2019','2020','2021', '2022', '2023','2024'],\n",
        "        'rendimiento_t_ha': [20.0, 11.0, 29.0, 30.5, 22.6, 15.6]}\n",
        "df_result1 = pd.DataFrame(result1) #se crea el dataframe con la funcion df\n",
        "print(df_result1)"
      ],
      "metadata": {
        "colab": {
          "base_uri": "https://localhost:8080/"
        },
        "id": "3KrpCHDwa7TV",
        "outputId": "8b0f7d8f-6241-4836-cbb0-db324b7d3e9f"
      },
      "execution_count": null,
      "outputs": [
        {
          "output_type": "stream",
          "name": "stdout",
          "text": [
            "  cultivo_transitorio  rea_cosechada_ha  producci_n_t   a_o  rendimiento_t_ha\n",
            "0              ACELGA             116.2        2322.0  2019              20.0\n",
            "1              ACHIRA              58.8         638.0  2020              11.0\n",
            "2              RABANO              12.1         435.0  2021              29.0\n",
            "3             ACHIOTE              23.0         344.0  2022              30.5\n",
            "4           ZANAHORIA              11.2         650.0  2023              22.6\n",
            "5              RABANO               4.5        1200.0  2024              15.6\n"
          ]
        }
      ]
    },
    {
      "cell_type": "code",
      "source": [
        "import matplotlib.pyplot as plt  #importo la libreria plt\n"
      ],
      "metadata": {
        "id": "YnNmT2tjj4YR"
      },
      "execution_count": null,
      "outputs": []
    },
    {
      "cell_type": "markdown",
      "source": [
        "\n",
        " **Analizar datos agrícolas de diferentes cultivos** en varias regiones y años, almacenados en un diccionario, para calcular el rendimiento promedio por hectárea de cada cultivo. Utilizando la biblioteca pandas, el programa agrupa los datos por tipo de cultivo, calcula la media del rendimiento y determina cuál es el cultivo con el mejor rendimiento promedio. Finalmente, imprime los resultados, mostrando tanto el rendimiento promedio por hectárea para cada cultivo como el cultivo más eficiente para sembrar."
      ],
      "metadata": {
        "id": "MB3NiZdxRrs6"
      }
    },
    {
      "cell_type": "code",
      "source": [
        "# Crear Un diccionario de datos para almacenar datos\n",
        "data = {\n",
        "    'de_cultivo': [15, 25, 25, 54, 54, 41, 41, 41, 41, 52],\n",
        "    'cultivo': ['BOYACA', 'CUNDINAMARCA', 'CUNDINAMARCA', 'NORTE DE SANTANDER', 'NORTE DE SANTANDER', 'HUILA', 'HUILA', 'HUILA', 'HUILA', 'NARIÑO'],\n",
        "    'desagregaci_n_regional_y': ['ACELGA','ACHIRA','RABANO','ACHIOTE', ' ZANAHORIA', 'RABANO', ' ZANAHORIA', 'RABANO','ACHIOTE', 'ACELGA'],\n",
        "    'municipio': ['BUSBANZA', 'SOACHA', 'COTA', 'LOS PATIOS', 'PAMPLONA', 'TIMANA', 'ELIAS', 'IQUIRA', 'ALGECIRAS', 'LA CRUZ'],\n",
        "    'a_o': ['2006', '2007', '2008', '2010', '2011', '2012', '2013', '2014', '2015', '2016'],\n",
        "    'periodo': ['HORTALIZAS'] * 10,\n",
        "    'rea_sembrada_ha': [2, 82, 2, 3, 1, 10, 7, 7, 2, 110],\n",
        "    'rea_cosechada_ha': [1, 80, 2, 3, 1, 10, 7, 7, 2, 110],\n",
        "    'producci_n_t': [1, 1440, 26, 48, 5, 20, 11, 11, 3, 90],\n",
        "    'rendimiento_t_ha': [1.00, 18.00, 17.33, 16.00, 10.00, 2.00, 1.60, 1.60, 1.60, .82],\n",
        "    'estado_fisico_produccion': ['FRUTO FRESCO'] * 10,\n",
        "    'nombre_cientifico': ['BETA VULGARIS'] * 5 + ['CANNA EDULIS'] * 5,\n",
        "    'ciclo_de_cultivo': ['TRANSITORIO'] * 5 + ['ANUAL'] * 5\n",
        "}\n",
        "# Creamos un dataframe para poder manipular los datos del diccionario de datos\n",
        "df = pd.DataFrame(data)   # Crear el DF para convertir el diccionario  y manipular analizar los datos\n",
        "rendimiento_promedio = df.groupby('cultivo')['rendimiento_t_ha'].mean().reset_index()  # df.groupby utilizamos este metodo para agrupar datos utilizamos mean() para sacar la media aritmetica de los datos\n",
        "mejor_cultivo = rendimiento_promedio.loc[rendimiento_promedio['rendimiento_t_ha'].idxmax()]\n",
        "print(\"Rendimiento promedio por hectárea para cada cultivo:\")\n",
        "print(rendimiento_promedio.to_string(index=False))\n",
        "print(\"\\nEl mejor cultivo para sembrar es:\")\n",
        "print(mejor_cultivo.to_string(index=False))\n",
        "\n",
        "\n"
      ],
      "metadata": {
        "colab": {
          "base_uri": "https://localhost:8080/"
        },
        "id": "J-jUndrTbNcC",
        "outputId": "2741914e-c5e7-4601-f94c-93a1a1737b08"
      },
      "execution_count": null,
      "outputs": [
        {
          "output_type": "stream",
          "name": "stdout",
          "text": [
            "Rendimiento promedio por hectárea para cada cultivo:\n",
            "           cultivo  rendimiento_t_ha\n",
            "            BOYACA             1.000\n",
            "      CUNDINAMARCA            17.665\n",
            "             HUILA             1.700\n",
            "            NARIÑO             0.820\n",
            "NORTE DE SANTANDER            13.000\n",
            "\n",
            "El mejor cultivo para sembrar es:\n",
            "CUNDINAMARCA\n",
            "      17.665\n"
          ]
        }
      ]
    },
    {
      "cell_type": "markdown",
      "source": [
        "**Este programa permite a los campesinos ingresar datos sobre sus cultivos**, como la zona de cultivo, el periodo, el área sembrada y cosechada, y la producción. Utilizando estos datos, el programa calcula el rendimiento por hectárea para cada entrada y almacena toda la información en un DataFrame de pandas. Luego, agrupa los datos por zona de cultivo y calcula el rendimiento promedio por hectárea para cada zona. Finalmente, muestra estos rendimientos promedio, ayudando a identificar las zonas con mejor desempeño agrícola. El objetivo principal es facilitar la recolección y análisis de datos agrícolas para mejorar la toma de decisiones en la gestión de cultivos."
      ],
      "metadata": {
        "id": "tTF4_NcArQyj"
      }
    },
    {
      "cell_type": "code",
      "source": [
        "# Creamo un dataframe\n",
        "df = pd.DataFrame(columns=['zona_de_cultivo', 'periodo', 'rea_sembrada_ha', 'rea_cosechada_ha', 'producci_n_t', 'rendimiento_t_ha'])\n",
        "\n",
        "# Función para ingresar los datos del campesino\n",
        "def ingresar_datos():\n",
        "    zona_de_cultivo = input(\"Ingrese la zona de cultivo: \")\n",
        "    periodo = input(\"Ingrese el periodo: \")\n",
        "    rea_sembrada_ha = float(input(\"Ingrese el área sembrada (ha): \"))\n",
        "    rea_cosechada_ha = float(input(\"Ingrese el área cosechada (ha): \"))\n",
        "    producci_n_t = float(input(\"Ingrese la producción (t): \"))\n",
        "\n",
        "    # Calcular el rendimiento del cultivo\n",
        "    rendimiento_t_ha = producci_n_t / rea_cosechada_ha if rea_cosechada_ha != 0 else 0\n",
        "\n",
        "    # Agregar los datos al DataFrame\n",
        "    df.loc[len(df)] = [zona_de_cultivo, periodo, rea_sembrada_ha, rea_cosechada_ha, producci_n_t, rendimiento_t_ha]\n",
        "\n",
        "# Función para calcular el rendimiento por zona\n",
        "def calcular_rendimiento_por_zona():  #Definimos la funsion\n",
        "    rendimiento_por_zona = df.groupby('zona_de_cultivo')['rendimiento_t_ha'].mean().reset_index()  # Utilizamos el metodo groupby, para agrupar los datos de del df zona de cultivo, calculamos la media y reseteamos para convertir el indice en una columna normal\n",
        "    return rendimiento_por_zona\n",
        "\n",
        "# Ingresar los datos del campesino\n",
        "while True:\n",
        "    ingresar_datos()\n",
        "    continuar = input(\"¿Desea ingresar más datos? (s/n): \")\n",
        "    if continuar.lower() != 's':\n",
        "        break\n",
        "\n",
        "# Calcular y mostrar el rendimiento por zona\n",
        "rendimiento_por_zona = calcular_rendimiento_por_zona()\n",
        "print(\"\\nRendimiento promedio por hectárea para cada zona de cultivo:\")\n",
        "print(rendimiento_por_zona.to_string(index=False))\n"
      ],
      "metadata": {
        "colab": {
          "base_uri": "https://localhost:8080/"
        },
        "id": "nlkbDwEXhjEP",
        "outputId": "8d38b1f3-4fb7-49f5-f932-fbc271bcd69a"
      },
      "execution_count": null,
      "outputs": [
        {
          "output_type": "stream",
          "name": "stdout",
          "text": [
            "Ingrese la zona de cultivo: CUNDINAMARCA\n",
            "Ingrese el periodo: 2016\n",
            "Ingrese el área sembrada (ha): 50\n",
            "Ingrese el área cosechada (ha): 45\n",
            "Ingrese la producción (t): 45\n",
            "¿Desea ingresar más datos? (s/n): S\n",
            "Ingrese la zona de cultivo: NORTE DE SANTANDER\n",
            "Ingrese el periodo: 2016\n",
            "Ingrese el área sembrada (ha): 50\n",
            "Ingrese el área cosechada (ha): 45\n",
            "Ingrese la producción (t): 20\n",
            "¿Desea ingresar más datos? (s/n): N\n",
            "\n",
            "Rendimiento promedio por hectárea para cada zona de cultivo:\n",
            "   zona_de_cultivo  rendimiento_t_ha\n",
            "      CUNDINAMARCA          1.000000\n",
            "NORTE DE SANTANDER          0.444444\n"
          ]
        }
      ]
    },
    {
      "cell_type": "markdown",
      "source": [
        " **Este gráfico muestra la relación entre el área sembrada y el rendimiento de cultivos a lo largo de los años 2006 a 2016.** Las barras representan el área sembrada en hectáreas para cada año, mientras que la línea con marcadores muestra el rendimiento en toneladas por hectárea. El gráfico permite visualizar cómo varían tanto el área sembrada como el rendimiento a lo largo del tiempo, facilitando la comparación de estos dos aspectos clave de la producción agrícola."
      ],
      "metadata": {
        "id": "m06kSkHmemJ6"
      }
    },
    {
      "cell_type": "code",
      "source": [
        "import pandas as pd\n",
        "import matplotlib.pyplot as plt\n",
        "\n",
        "# AREA SEMBRADA VS PRODUCCION\n",
        "a_o = ['2006', '2007', '2008', '2010', '2011', '2012', '2013', '2014', '2015', '2016']  # se crean las listas con ,os nombres de cada mes  y vents mensuales\n",
        "rea_sembrada_ha = [2, 82, 2, 3, 1, 10, 7, 7, 2, 110]\n",
        "rendimiento_t_ha = [1.00, 18.00, 17.33, 16.00, 10.00, 2.00, 1.60, 1.60, 1.60, .82]\n",
        "\n",
        "\n",
        "# Grafico  titulos y etiquetas y funcion del tipo de grafico\n",
        "plt.figure(figsize=(10,6))\n",
        "\n",
        "plt.bar(a_o, rea_sembrada_ha, label='Área Sembrada')\n",
        "plt.plot(a_o, rendimiento_t_ha, marker='o', label='Rendimiento')\n",
        "plt.title('Área Sembrada vs Rendimiento')\n",
        "plt.xlabel('Año')\n",
        "plt.ylabel('Área Sembrada (ha) y Rendimiento (t/ha)')\n",
        "plt.legend()\n",
        "plt.show()\n"
      ],
      "metadata": {
        "colab": {
          "base_uri": "https://localhost:8080/",
          "height": 564
        },
        "id": "xKZ6EReoMgRR",
        "outputId": "5ea11e69-5026-4f57-acba-51b57914a007"
      },
      "execution_count": null,
      "outputs": [
        {
          "output_type": "display_data",
          "data": {
            "text/plain": [
              "<Figure size 1000x600 with 1 Axes>"
            ],
            "image/png": "[encoded data removed]"
          },
          "metadata": {}
        }
      ]
    },
    {
      "cell_type": "markdown",
      "source": [
        "**El gráfico muestra el rendimiento promedio por hectárea de diferentes cultivos**, representado en toneladas por hectárea (t/ha). Cada barra en el gráfico corresponde a un cultivo específico, y la altura de la barra indica el rendimiento promedio de ese cultivo. El gráfico proporciona una comparación visual clara de la productividad de varios cultivos en términos de rendimiento por hectárea."
      ],
      "metadata": {
        "id": "LokBO0_xbeXQ"
      }
    },
    {
      "cell_type": "code",
      "source": [
        "import matplotlib.pyplot as plt\n",
        "import pandas as pd\n",
        "\n",
        "# Datos proporcionados\n",
        "data_AgroTech = {\n",
        "    'de_cultivo': [15, 25, 25, 54, 54, 41, 41, 41, 41, 52],\n",
        "    'cultivo': ['BOYACA', 'CUNDINAMARCA', 'CUNDINAMARCA', 'NORTE DE SANTANDER', 'NORTE DE SANTANDER', 'HUILA', 'HUILA', 'HUILA', 'HUILA', 'NARIÑO'],\n",
        "    'desagregaci_n_regional_y': ['ACELGA','ACHIRA','RABANO','ACHIOTE', ' ZANAHORIA', 'RABANO', ' ZANAHORIA', 'RABANO','ACHIOTE', 'ACELGA'],\n",
        "    'municipio': ['BUSBANZA', 'SOACHA', 'COTA', 'LOS PATIOS', 'PAMPLONA', 'TIMANA', 'ELIAS', 'IQUIRA', 'ALGECIRAS', 'LA CRUZ'],\n",
        "    'a_o': ['2006', '2007', '2008', '2010', '2011', '2012', '2013', '2014', '2015', '2016'],\n",
        "    'periodo': ['HORTALIZAS'] * 10,\n",
        "    'rea_sembrada_ha': [2, 82, 2, 3, 1, 10, 7, 7, 2, 110],\n",
        "    'rea_cosechada_ha': [1, 80, 2, 3, 1, 10, 7, 7, 2, 110],\n",
        "    'producci_n_t': [1, 1440, 26, 48, 5, 20, 11, 11, 3, 90],\n",
        "    'rendimiento_t_ha': [1.00, 18.00, 17.33, 16.00, 10.00, 2.00, 1.60, 1.60, 1.60, .82],\n",
        "    'estado_fisico_produccion': ['FRUTO FRESCO'] * 10,\n",
        "    'nombre_cientifico': ['BETA VULGARIS'] * 5 + ['CANNA EDULIS'] * 5,\n",
        "    'ciclo_de_cultivo': ['TRANSITORIO'] * 5 + ['ANUAL'] * 5\n",
        "}\n",
        "\n",
        "# Crear un DataFrame con los datos\n",
        "df = pd.DataFrame(data_AgroTech)\n",
        "\n",
        "# Calcular el rendimiento promedio por cultivo\n",
        "rendimiento_promedio = df.groupby('cultivo')['rendimiento_t_ha'].mean().reset_index()\n",
        "\n",
        "# Crear la gráfica mejorada\n",
        "plt.figure(figsize=(12,8))\n",
        "bars = plt.bar(rendimiento_promedio['cultivo'], rendimiento_promedio['rendimiento_t_ha'], color='skyblue')\n",
        "\n",
        "# Añadir etiquetas de valor en las barras\n",
        "for bar in bars:\n",
        "    yval = bar.get_height()\n",
        "    plt.text(bar.get_x() + bar.get_width()/2 - 0.1, yval + 0.5, round(yval,2), ha='center', va='bottom')\n",
        "\n",
        "# Añadir etiquetas y título\n",
        "plt.xlabel('Cultivo')\n",
        "plt.ylabel('Rendimiento Promedio (t/ha)')\n",
        "plt.title('Rendimiento Promedio por Hectárea para Cada Cultivo')\n",
        "plt.xticks(rotation=45)\n",
        "plt.grid(axis='y', linestyle='--', alpha=0.7)\n",
        "\n",
        "# Ajustar el diseño\n",
        "plt.tight_layout()\n",
        "\n",
        "# Guardar la gráfica como un archivo de imagen\n",
        "plt.savefig('rendimiento_promedio_cultivos_mejorado.png')\n",
        "\n",
        "# Mostrar la gráfica\n",
        "plt.show()\n"
      ],
      "metadata": {
        "colab": {
          "base_uri": "https://localhost:8080/",
          "height": 659
        },
        "id": "uzqDy2fxn_uG",
        "outputId": "a92df959-ba17-4e24-9b04-e5ad8e04d40e"
      },
      "execution_count": null,
      "outputs": [
        {
          "output_type": "display_data",
          "data": {
            "text/plain": [
              "<Figure size 1200x800 with 1 Axes>"
            ],
            "image/png": "[encoded data removed]"
          },
          "metadata": {}
        }
      ]
    },
    {
      "cell_type": "code",
      "source": [],
      "metadata": {
        "id": "_9XLTdao4Nli"
      },
      "execution_count": null,
      "outputs": []
    },
    {
      "cell_type": "markdown",
      "source": [
        "Este gráfico de histograma muestra la distribución del rendimiento por hectárea (t/ha) para diferentes cultivos transitorios. Este gráfico es útil para identificar cómo se distribuyen los rendimientos de los cultivos y para detectar posibles patrones o variaciones en la productividad agrícola.\n",
        "cultivo_transitorio  rea_cosechada_ha  producci_n_t   a_o  rendimiento_t_ha\n"
      ],
      "metadata": {
        "id": "0dZXLG1SY6I6"
      }
    },
    {
      "cell_type": "code",
      "source": [
        "import numpy as np\n",
        "import matplotlib.pyplot as plt\n",
        "import pandas as pd\n",
        "\n",
        "# Datos proporcionados\n",
        "rendimiento_por_zona = pd.DataFrame({\n",
        "    'cultivo_transitorio': ['ACELGA', 'ACHIRA', 'RABANO', 'ACHIOTE', 'ZANAHORIA', 'RABANO'],\n",
        "    'rea_cosechada_ha': [116.2, 58.8, 12.1, 23.0, 11.2, 4.5],\n",
        "    'producci_n_t': [2322.0, 638.0, 435.0, 344.0, 650.0, 1200.0],\n",
        "    'a_o': [2019, 2020, 2021, 2022, 2023, 2024],\n",
        "    'rendimiento_t_ha': [20.0, 11.0, 29.0, 30.5, 22.6, 15.6]\n",
        "})\n",
        "\n",
        "# Convertir la columna 'rendimiento_t_ha' a un array de numpy\n",
        "rendimiento_t_ha = np.array(rendimiento_por_zona['rendimiento_t_ha'])\n",
        "\n",
        "# Crear el histograma\n",
        "plt.figure(figsize=(10, 6))\n",
        "plt.hist(rendimiento_t_ha, bins=10, edgecolor='black', alpha=0.7)\n",
        "\n",
        "# Añadir una línea vertical en la media\n",
        "plt.axvline(np.mean(rendimiento_t_ha), color='r', linestyle='dashed', linewidth=1)\n",
        "\n",
        "# Añadir títulos y etiquetas\n",
        "plt.title('Histograma de Rendimiento por Zona de Cultivo')\n",
        "plt.xlabel('Rendimiento (t/ha)')\n",
        "plt.ylabel('Frecuencia')\n",
        "\n",
        "# Añadir una cuadrícula\n",
        "plt.grid(True)\n",
        "\n",
        "# Mostrar el gráfico\n",
        "plt.show()"
      ],
      "metadata": {
        "colab": {
          "base_uri": "https://localhost:8080/",
          "height": 564
        },
        "id": "gAzjG2WNYoTo",
        "outputId": "3a4362cc-9533-4c5c-d2ce-c30086559205"
      },
      "execution_count": null,
      "outputs": [
        {
          "output_type": "display_data",
          "data": {
            "text/plain": [
              "<Figure size 1000x600 with 1 Axes>"
            ],
            "image/png": "[encoded data removed]"
          },
          "metadata": {}
        }
      ]
    },
    {
      "cell_type": "markdown",
      "source": [
        "**Rendimiento por hectárea** (t/ha) para diferentes cultivos transitorios. Utilizando datos de rendimiento de cultivos como ACELGA, ACHIRA, RABANO, ACHIOTE y ZANAHORIA, el gráfico muestra la mediana, los cuartiles y los valores atípicos del rendimiento."
      ],
      "metadata": {
        "id": "TQ88S0XQaDaa"
      }
    },
    {
      "cell_type": "markdown",
      "source": [
        "Este Grafico muestra el  rendimiento (en toneladas por hectárea) de los cultivos transitorios. la mediana, mientras que los bordes de la caja indican el rango intercuartílico (Q1 a Q3). Las líneas (bigotes) se extienden hasta los valores mínimos y máximos dentro de 1.5 veces el rango intercuartílico."
      ],
      "metadata": {
        "id": "wl0bPhmpqW-L"
      }
    },
    {
      "cell_type": "code",
      "source": [
        "import numpy as np\n",
        "import matplotlib.pyplot as plt\n",
        "import pandas as pd\n",
        "\n",
        "# Datos proporcionados\n",
        "rendimiento_por_zona = pd.DataFrame({\n",
        "    'cultivo_transitorio': ['ACELGA', 'ACHIRA', 'RABANO', 'ACHIOTE', 'ZANAHORIA', 'RABANO'],\n",
        "    'rea_cosechada_ha': [116.2, 58.8, 12.1, 23.0, 11.2, 4.5],\n",
        "    'producci_n_t': [2322.0, 638.0, 435.0, 344.0, 650.0, 1200.0],\n",
        "    'a_o': [2019, 2020, 2021, 2022, 2023, 2024],\n",
        "    'rendimiento_t_ha': [20.0, 11.0, 29.0, 30.5, 22.6, 15.6]\n",
        "})\n",
        "\n",
        "# Convertir la columna 'rendimiento_t_ha' a un array de numpy\n",
        "rendimiento_t_ha = np.array(rendimiento_por_zona['rendimiento_t_ha'])\n",
        "\n",
        "# Crear el diagrama de caja\n",
        "plt.figure(figsize=(10, 6))\n",
        "plt.boxplot(rendimiento_t_ha, patch_artist=True,\n",
        "            boxprops=dict(facecolor='skyblue', color='black'),\n",
        "            whiskerprops=dict(color='black'),\n",
        "            capprops=dict(color='black'),\n",
        "            medianprops=dict(color='red'))\n",
        "\n",
        "# Añadir títulos y etiquetas\n",
        "plt.title('Diagrama de Caja para el Rendimiento por Hectárea')\n",
        "plt.ylabel('Rendimiento (t/ha)')\n",
        "plt.xticks([1], ['Cultivos Transitorios'])\n",
        "\n",
        "# Añadir una cuadrícula\n",
        "plt.grid(True)\n",
        "\n",
        "# Mostrar el gráfico\n",
        "plt.show()"
      ],
      "metadata": {
        "colab": {
          "base_uri": "https://localhost:8080/",
          "height": 545
        },
        "id": "VIpKc00PZ1nw",
        "outputId": "2c40e160-f7dc-4934-a9bf-b07b40190285"
      },
      "execution_count": null,
      "outputs": [
        {
          "output_type": "display_data",
          "data": {
            "text/plain": [
              "<Figure size 1000x600 with 1 Axes>"
            ],
            "image/png": "[encoded data removed]"
          },
          "metadata": {}
        }
      ]
    },
    {
      "cell_type": "code",
      "source": [
        "import pandas as pd\n",
        "\n",
        "# Crear un diccionario de datos para almacenar datos\n",
        "data = {\n",
        "    'de_cultivo': [15, 25, 25, 54, 54, 41, 41, 41, 41, 52],\n",
        "    'cultivo': ['BOYACA', 'CUNDINAMARCA', 'CUNDINAMARCA', 'NORTE DE SANTANDER', 'NORTE DE SANTANDER', 'HUILA', 'HUILA', 'HUILA', 'HUILA', 'NARIÑO'],\n",
        "    'desagregaci_n_regional_y': ['ACELGA','ACHIRA','RABANO','ACHIOTE', ' ZANAHORIA', 'RABANO', ' ZANAHORIA', 'RABANO','ACHIOTE', 'ACELGA'],\n",
        "    'municipio': ['BUSBANZA', 'SOACHA', 'COTA', 'LOS PATIOS', 'PAMPLONA', 'TIMANA', 'ELIAS', 'IQUIRA', 'ALGECIRAS', 'LA CRUZ'],\n",
        "    'a_o': ['2006', '2007', '2008', '2010', '2011', '2012', '2013', '2014', '2015', '2016'],\n",
        "    'periodo': ['HORTALIZAS'] * 10,\n",
        "    'rea_sembrada_ha': [2, 82, 2, 3, 1, 10, 7, 7, 2, 110],\n",
        "    'rea_cosechada_ha': [1, 80, 2, 3, 1, 10, 7, 7, 2, 110],\n",
        "    'producci_n_t': [1, 1440, 26, 48, 5, 20, 11, 11, 3, 90],\n",
        "    'rendimiento_t_ha': [1.00, 18.00, 17.33, 16.00, 10.00, 2.00, 1.60, 1.60, 1.60, .82],\n",
        "    'estado_fisico_produccion': ['FRUTO FRESCO'] * 10,\n",
        "    'nombre_cientifico': ['BETA VULGARIS'] * 5 + ['CANNA EDULIS'] * 5,\n",
        "    'ciclo_de_cultivo': ['TRANSITORIO'] * 5 + ['ANUAL'] * 5\n",
        "}\n",
        "\n",
        "# Crear un DataFrame con los datos\n",
        "df = pd.DataFrame(data)\n",
        "\n",
        "# Calcular el rendimiento promedio por cultivo\n",
        "rendimiento_promedio = df.groupby('cultivo')['rendimiento_t_ha'].mean().reset_index()\n",
        "\n",
        "# Encontrar el cultivo con el mejor rendimiento promedio\n",
        "mejor_cultivo = rendimiento_promedio.loc[rendimiento_promedio['rendimiento_t_ha'].idxmax()]\n",
        "\n",
        "# Mostrar los resultados en una cuadrícula\n",
        "print(\"Rendimiento promedio por hectárea para cada cultivo:\")\n",
        "print(rendimiento_promedio.to_string(index=False))\n",
        "print(\"\\nEl mejor cultivo para sembrar es:\")\n",
        "print(mejor_cultivo.to_string(index=False))"
      ],
      "metadata": {
        "colab": {
          "base_uri": "https://localhost:8080/"
        },
        "id": "_Kn4lSJqdATq",
        "outputId": "681cc590-045c-44ad-8604-a1494f8ac85a"
      },
      "execution_count": null,
      "outputs": [
        {
          "output_type": "stream",
          "name": "stdout",
          "text": [
            "Rendimiento promedio por hectárea para cada cultivo:\n",
            "           cultivo  rendimiento_t_ha\n",
            "            BOYACA             1.000\n",
            "      CUNDINAMARCA            17.665\n",
            "             HUILA             1.700\n",
            "            NARIÑO             0.820\n",
            "NORTE DE SANTANDER            13.000\n",
            "\n",
            "El mejor cultivo para sembrar es:\n",
            "CUNDINAMARCA\n",
            "      17.665\n"
          ]
        }
      ]
    },
    {
      "cell_type": "markdown",
      "source": [
        "# **ALGORITMOS DE BUSQUEDA FASE 2 PROYECTO COCREACION **\n",
        "\n",
        "\n"
      ],
      "metadata": {
        "id": "ry6qftkC-ZKB"
      }
    },
    {
      "cell_type": "markdown",
      "source": [
        "Creamos un diccionario que posteriormente lo convertimos en un dataframe y definimos una fucion para analizar los datos y empezar hacer recomendaciones esta funcion recorre cada fila del DF y compara el rendimiento de cada cultivo vs rendimiento promedio  y un for para que haga el reccorrido se crea un if para validar si el rendimiento es inferior al promedio se recomienda mejorar las prácticas agrícolas y el uso de fertilizantes y plaguicidas ahora si el rendimiento es superior se recomienda seguir con las practicas actuales y se imprimen resultados.\n",
        "\n"
      ],
      "metadata": {
        "id": "VaxD1PbO-6Ae"
      }
    },
    {
      "cell_type": "code",
      "source": [
        "import pandas as pd\n",
        "\n",
        "# Creamos un DataFrame con los datos del dataset =df\n",
        "data_AgroTech = {\n",
        "    'c_d_dep': [15, 25, 25, 54, 54, 41, 41, 41, 41, 52],\n",
        "    'departamento': ['BOYACA', 'CUNDINAMARCA', 'CUNDINAMARCA', 'NORTE DE SANTANDER', 'NORTE DE SANTANDER', 'HUILA', 'HUILA', 'HUILA', 'HUILA', 'NARIÑO'],\n",
        "    'c_d_mun': [15114, 25754, 25214, 54405, 54518, 41807, 41244, 41357, 41020, 52378],\n",
        "    'municipio': ['BUSBANZA', 'SOACHA', 'COTA', 'LOS PATIOS', 'PAMPLONA', 'TIMANA', 'ELIAS', 'IQUIRA', 'ALGECIRAS', 'LA CRUZ'],\n",
        "    'grupo_de_cultivo': ['HORTALIZAS'] * 5 + ['TUBERCULOS Y PLATANOS'] * 5,\n",
        "    'subgrupo_de_cultivo': ['ACELGA'] * 5 + ['ACHIRA'] * 5,\n",
        "    'cultivo': ['ACELGA'] * 5 + ['ACHIRA'] * 5,\n",
        "    'desagregaci_n_regional_y': ['ACELGA'] * 5 + ['ACHIRA'] * 5,\n",
        "    'a_o': [2006] * 5 + [2008] * 5,\n",
        "    'periodo': ['2006B'] * 5 + ['2008'] * 5,\n",
        "    'rea_sembrada_ha': [2, 82, 2, 3, 1, 10, 7, 7, 2, 110],\n",
        "    'rea_cosechada_ha': [1, 80, 2, 3, 1, 10, 7, 7, 2, 110],\n",
        "    'producci_n_t': [1, 1440, 26, 48, 5, 20, 11, 11, 3, 90],\n",
        "    'rendimiento_t_ha': [1.00, 18.00, 17.33, 16.00, 10.00, 2.00, 1.60, 1.60, 1.60, .82],\n",
        "    'estado_fisico_produccion': ['FRUTO FRESCO'] * 5 + ['TUBERCULO FRESCO'] * 5,\n",
        "    'nombre_cientifico': ['BETA VULGARIS'] * 5 + ['CANNA EDULIS'] * 5,\n",
        "    'ciclo_de_cultivo': ['TRANSITORIO'] * 5 + ['ANUAL'] * 5\n",
        "}\n",
        "\n",
        "df = pd.DataFrame(data_AgroTech)  #llamamos la funcion de pandas para crear el dataframe\n",
        "\n",
        "# Función para analizar datos de cada cultivo y ofrecer recomendaciones personalizadas\n",
        "def analizar_datos(df):\n",
        "    recomendaciones = []\n",
        "\n",
        "    for index, row in df.iterrows():  #creamos un for para que haga el recorrido atravez de la fila del df\n",
        "        cultivo = row['cultivo']\n",
        "        rendimiento = row['rendimiento_t_ha']\n",
        "\n",
        "        if rendimiento < df['rendimiento_t_ha'].mean():\n",
        "            recomendacion = f\"Para el cultivo de {cultivo} en {row['municipio']} ({row['departamento']}), se recomienda mejorar las prácticas agrícolas y considerar el uso de fertilizantes y plaguicidas adecuados.\"\n",
        "        else:\n",
        "            recomendacion = f\"El cultivo de {cultivo} en {row['municipio']} ({row['departamento']}) tiene un buen rendimiento. Se recomienda continuar con las prácticas actuales y explorar variedades de cultivos que puedan aumentar aún más la producción.\"\n",
        "\n",
        "        recomendaciones.append(recomendacion)\n",
        "\n",
        "    return recomendaciones\n",
        "\n",
        "# Obtener recomendaciones\n",
        "recomendaciones = analizar_datos(df)\n",
        "\n",
        "# Mostrar recomendaciones\n",
        "for rec in recomendaciones:\n",
        "    print(rec)"
      ],
      "metadata": {
        "colab": {
          "base_uri": "https://localhost:8080/"
        },
        "id": "9i1b7fs_-YXU",
        "outputId": "d5ec48bc-56b5-46a3-8984-024decca5187"
      },
      "execution_count": null,
      "outputs": [
        {
          "output_type": "stream",
          "name": "stdout",
          "text": [
            "Para el cultivo de ACELGA en BUSBANZA (BOYACA), se recomienda mejorar las prácticas agrícolas y considerar el uso de fertilizantes y plaguicidas adecuados.\n",
            "El cultivo de ACELGA en SOACHA (CUNDINAMARCA) tiene un buen rendimiento. Se recomienda continuar con las prácticas actuales y explorar variedades de cultivos que puedan aumentar aún más la producción.\n",
            "El cultivo de ACELGA en COTA (CUNDINAMARCA) tiene un buen rendimiento. Se recomienda continuar con las prácticas actuales y explorar variedades de cultivos que puedan aumentar aún más la producción.\n",
            "El cultivo de ACELGA en LOS PATIOS (NORTE DE SANTANDER) tiene un buen rendimiento. Se recomienda continuar con las prácticas actuales y explorar variedades de cultivos que puedan aumentar aún más la producción.\n",
            "El cultivo de ACELGA en PAMPLONA (NORTE DE SANTANDER) tiene un buen rendimiento. Se recomienda continuar con las prácticas actuales y explorar variedades de cultivos que puedan aumentar aún más la producción.\n",
            "Para el cultivo de ACHIRA en TIMANA (HUILA), se recomienda mejorar las prácticas agrícolas y considerar el uso de fertilizantes y plaguicidas adecuados.\n",
            "Para el cultivo de ACHIRA en ELIAS (HUILA), se recomienda mejorar las prácticas agrícolas y considerar el uso de fertilizantes y plaguicidas adecuados.\n",
            "Para el cultivo de ACHIRA en IQUIRA (HUILA), se recomienda mejorar las prácticas agrícolas y considerar el uso de fertilizantes y plaguicidas adecuados.\n",
            "Para el cultivo de ACHIRA en ALGECIRAS (HUILA), se recomienda mejorar las prácticas agrícolas y considerar el uso de fertilizantes y plaguicidas adecuados.\n",
            "Para el cultivo de ACHIRA en LA CRUZ (NARIÑO), se recomienda mejorar las prácticas agrícolas y considerar el uso de fertilizantes y plaguicidas adecuados.\n"
          ]
        }
      ]
    },
    {
      "cell_type": "markdown",
      "source": [
        "Este codigo hace una descripcion estadistica de la tabla para poder identificar Identificar Tendencias y Patrones, Detectar Anomalías, Tomar Decisiones y Comparar Rendimientos."
      ],
      "metadata": {
        "id": "MRbf2iyiBNYW"
      }
    },
    {
      "cell_type": "code",
      "source": [
        "import pandas as pd\n",
        "import matplotlib.pyplot as plt\n",
        "\n",
        "\n",
        "# Crear un DataFrame con los datos proporcionados\n",
        "# Creamos un DataFrame con los datos del dataset =df\n",
        "\n",
        "data_AgroTech = {\n",
        "    'c_d_dep': [15, 25, 25, 54, 54, 41, 41, 41, 41, 52],\n",
        "    'departamento': ['BOYACA', 'CUNDINAMARCA', 'CUNDINAMARCA', 'NORTE DE SANTANDER', 'NORTE DE SANTANDER', 'HUILA', 'HUILA', 'HUILA', 'HUILA', 'NARIÑO'],\n",
        "    'c_d_mun': [15114, 25754, 25214, 54405, 54518, 41807, 41244, 41357, 41020, 52378],\n",
        "    'municipio': ['BUSBANZA', 'SOACHA', 'COTA', 'LOS PATIOS', 'PAMPLONA', 'TIMANA', 'ELIAS', 'IQUIRA', 'ALGECIRAS', 'LA CRUZ'],\n",
        "    'grupo_de_cultivo': ['HORTALIZAS'] * 5 + ['TUBERCULOS Y PLATANOS'] * 5,\n",
        "    'subgrupo_de_cultivo': ['ACELGA'] * 5 + ['ACHIRA'] * 5,\n",
        "    'cultivo': ['ACELGA'] * 5 + ['ACHIRA'] * 5,\n",
        "    'desagregaci_n_regional_y': ['ACELGA'] * 5 + ['ACHIRA'] * 5,\n",
        "    'a_o': [2006] * 5 + [2008] * 5,\n",
        "    'periodo': ['2006B'] * 5 + ['2008'] * 5,\n",
        "    'rea_sembrada_ha': [2, 82, 2, 3, 1, 10, 7, 7, 2, 110],\n",
        "    'rea_cosechada_ha': [1, 80, 2, 3, 1, 10, 7, 7, 2, 110],\n",
        "    'producci_n_t': [1, 1440, 26, 48, 5, 20, 11, 11, 3, 90],\n",
        "    'rendimiento_t_ha': [1.00, 18.00, 17.33, 16.00, 10.00, 2.00, 1.60, 1.60, 1.60, .82],\n",
        "    'estado_fisico_produccion': ['FRUTO FRESCO'] * 5 + ['TUBERCULO FRESCO'] * 5,\n",
        "    'nombre_cientifico': ['BETA VULGARIS'] * 5 + ['CANNA EDULIS'] * 5,\n",
        "    'ciclo_de_cultivo': ['TRANSITORIO'] * 5 + ['ANUAL'] * 5,\n",
        "    }\n",
        "\n",
        "df = pd.DataFrame(data_AgroTech)\n",
        "\n",
        "# Descripción estadística de las variables numéricas\n",
        "print(\"Descripción estadística de las variables numéricas:\")\n",
        "print(df.describe())\n",
        "\n",
        "\n"
      ],
      "metadata": {
        "colab": {
          "base_uri": "https://localhost:8080/"
        },
        "id": "Q1ImtjjbBM_j",
        "outputId": "42840784-3b71-48e2-acae-5da902833989"
      },
      "execution_count": null,
      "outputs": [
        {
          "output_type": "stream",
          "name": "stdout",
          "text": [
            "Descripción estadística de las variables numéricas:\n",
            "         c_d_dep       c_d_mun          a_o  rea_sembrada_ha  \\\n",
            "count  10.000000     10.000000    10.000000        10.000000   \n",
            "mean   38.900000  39281.100000  2007.000000        22.600000   \n",
            "std    13.345411  13395.293547     1.054093        39.350844   \n",
            "min    15.000000  15114.000000  2006.000000         1.000000   \n",
            "25%    29.000000  29570.500000  2006.000000         2.000000   \n",
            "50%    41.000000  41300.500000  2007.000000         5.000000   \n",
            "75%    49.250000  49735.250000  2008.000000         9.250000   \n",
            "max    54.000000  54518.000000  2008.000000       110.000000   \n",
            "\n",
            "       rea_cosechada_ha  producci_n_t  rendimiento_t_ha  \n",
            "count         10.000000     10.000000         10.000000  \n",
            "mean          22.300000    165.500000          6.995000  \n",
            "std           39.078411    448.634286          7.486143  \n",
            "min            1.000000      1.000000          0.820000  \n",
            "25%            2.000000      6.500000          1.600000  \n",
            "50%            5.000000     15.500000          1.800000  \n",
            "75%            9.250000     42.500000         14.500000  \n",
            "max          110.000000   1440.000000         18.000000  \n"
          ]
        }
      ]
    },
    {
      "cell_type": "markdown",
      "source": [],
      "metadata": {
        "id": "vocU1fdZBMvw"
      }
    },
    {
      "cell_type": "markdown",
      "source": [
        "# 1. Implementar los algoritmos de BFD, DFS, A* **\n"
      ],
      "metadata": {
        "id": "V2dL_fe_H-G0"
      }
    },
    {
      "cell_type": "code",
      "source": [
        "import heapq"
      ],
      "metadata": {
        "id": "CO570nsIH74y"
      },
      "execution_count": null,
      "outputs": []
    },
    {
      "cell_type": "markdown",
      "source": [
        "1. Seleccionamos los datos de mi tabla agrícolas para identificar patrones en el rendimiento de diferentes cultivos\n",
        "2. Rendimiento varía con el área sembrada para cada cultivo.\n",
        "3. relación entre la producción total y el rendimiento para cada cultivo.\n",
        "4. endimiento varía con el área cosechada para cada cultivo."
      ],
      "metadata": {
        "id": "_wmjtRpXJvMt"
      }
    },
    {
      "cell_type": "code",
      "source": [
        "import pandas as pd\n",
        "import matplotlib.pyplot as plt\n",
        "\n",
        "\n",
        "# Creo un dataframe\n",
        "data_cultivos = {\n",
        "    'cultivo_transitorio': ['ACELGA', 'ACHIRA', 'RABANO', 'ACHIOTE', 'ZANAHORIA', 'RABANO'],\n",
        "    'rea_cosechada_ha': [116.2, 58.8, 12.1, 23.0, 11.2, 4.5],\n",
        "    'producci_n_t': [2322.0, 638.0, 435.0, 344.0, 650.0, 1200.0],\n",
        "    'a_o': [2019, 2020, 2021, 2022, 2023, 2024],\n",
        "    'rendimiento_t_ha': [20.0, 11.0, 29.0, 30.5, 22.6, 15.6]\n",
        "}\n",
        "\n",
        "df = pd.DataFrame(data_cultivos)\n",
        "\n",
        "# Descripción estadística de las variables numéricas\n",
        "print(\"Descripción estadística de las variables numéricas:\")\n",
        "print(df.describe())\n",
        "\n"
      ],
      "metadata": {
        "colab": {
          "base_uri": "https://localhost:8080/"
        },
        "id": "_p4h1RhpJPfD",
        "outputId": "eba71567-21dd-41f6-a8e9-92e48360073a"
      },
      "execution_count": null,
      "outputs": [
        {
          "output_type": "stream",
          "name": "stdout",
          "text": [
            "Descripción estadística de las variables numéricas:\n",
            "       rea_cosechada_ha  producci_n_t          a_o  rendimiento_t_ha\n",
            "count          6.000000      6.000000     6.000000          6.000000\n",
            "mean          37.633333    931.500000  2021.500000         21.450000\n",
            "std           43.089148    743.321667     1.870829          7.559828\n",
            "min            4.500000    344.000000  2019.000000         11.000000\n",
            "25%           11.425000    485.750000  2020.250000         16.700000\n",
            "50%           17.550000    644.000000  2021.500000         21.300000\n",
            "75%           49.850000   1062.500000  2022.750000         27.400000\n",
            "max          116.200000   2322.000000  2024.000000         30.500000\n"
          ]
        }
      ]
    },
    {
      "cell_type": "markdown",
      "source": [],
      "metadata": {
        "id": "BXHVmTsJLHU5"
      }
    },
    {
      "cell_type": "markdown",
      "source": [
        "# Crear un analisis de los datos **agricolas VS COSTOS** *\n",
        "\n",
        "El propósito es analizar datos agrícolas para identificar patrones y aplicar un algoritmo de búsqueda para explorar relaciones entre diferentes cultivos sobre prácticas agrícolas y optimización de cultivos.\n",
        "\n",
        "El algoritmo BFD comienza en el nodo \"ACELGA\" y visita cada nodo y priorizando los de  menor costo\n",
        "\n",
        "Determinar el mejor cultimo vs la variacion de costos por Distancia, Tiempo, costo monetario, consumo de recursos, rendimiento y eficiencia\n",
        "\n",
        "**Diferencias en Rendimiento**: El costo podría ser la diferencia en rendimiento entre dos cultivos.\n",
        "\n",
        "**Distancia Geográfica**: Si los cultivos están en diferentes regiones\n",
        "\n",
        "**Costo de Transición:** el costo de cambiar de un cultivo a otro"
      ],
      "metadata": {
        "id": "lHpm64A-LcnJ"
      }
    },
    {
      "cell_type": "code",
      "source": [
        "# llamamos la librera para pririzar elementos\n",
        "import heapq\n",
        "# Crear un DataFrame\n",
        "data_cultivos = {\n",
        "    'cultivo_transitorio': ['ACELGA', 'ACHIRA', 'RABANO', 'ACHIOTE', 'ZANAHORIA', 'RABANO'],\n",
        "    'rea_cosechada_ha': [116.2, 58.8, 12.1, 23.0, 11.2, 4.5],\n",
        "    'producci_n_t': [2322.0, 638.0, 435.0, 344.0, 650.0, 1200.0],\n",
        "    'a_o': [2019, 2020, 2021, 2022, 2023, 2024],\n",
        "    'rendimiento_t_ha': [20.0, 11.0, 29.0, 30.5, 22.6, 15.6]\n",
        "}\n",
        "\n",
        "df = pd.DataFrame(data_cultivos)\n",
        "\n",
        "# Crear algoritmo BFD\n",
        "def best_first_search(grafo, inicio):  #definimos la funcion\n",
        "    visited = set() # creo una variable de almacenamientos de los nodos recorridos\n",
        "    cola = [(0, inicio)] #se crea una tupla con el costo y el nodo inicial mas el nodo inicial\n",
        "\n",
        "    while cola:\n",
        "        cost, node = heapq.heappop(cola)\n",
        "\n",
        "        if node not in visited:\n",
        "            visited.add(node)\n",
        "            print(f\"Visiting node {node} with cost {cost}\")\n",
        "\n",
        "            for neighbor in grafo[node]:\n",
        "                if neighbor not in visited:\n",
        "                    heapq.heappush(cola, (cost + graph[node][neighbor], neighbor))\n",
        "\n",
        "# Creamos el grafo con los datos de mis tablas\n",
        "graph = {\n",
        "    'ACELGA': {'ACHIRA': 1, 'RABANO': 4},\n",
        "    'ACHIRA': {'ACELGA': 1, 'ACHIOTE': 2},\n",
        "    'RABANO': {'ACELGA': 4, 'ZANAHORIA': 3},\n",
        "    'ACHIOTE': {'ACHIRA': 2},\n",
        "    'ZANAHORIA': {'RABANO': 3}\n",
        "}\n",
        "\n",
        "best_first_search(graph, 'ACELGA')"
      ],
      "metadata": {
        "colab": {
          "base_uri": "https://localhost:8080/"
        },
        "id": "6GTupNVcLHxz",
        "outputId": "d9904d9d-abd1-4569-ac5f-19be59f259aa"
      },
      "execution_count": null,
      "outputs": [
        {
          "output_type": "stream",
          "name": "stdout",
          "text": [
            "Visiting node ACELGA with cost 0\n",
            "Visiting node ACHIRA with cost 1\n",
            "Visiting node ACHIOTE with cost 3\n",
            "Visiting node RABANO with cost 4\n",
            "Visiting node ZANAHORIA with cost 7\n"
          ]
        }
      ]
    },
    {
      "cell_type": "markdown",
      "source": [
        "###"
      ],
      "metadata": {
        "id": "QX5EN_nTDq2s"
      }
    }
  ]
}